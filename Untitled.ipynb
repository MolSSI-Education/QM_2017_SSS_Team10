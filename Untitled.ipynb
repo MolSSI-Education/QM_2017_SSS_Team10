{
 "cells": [
  {
   "cell_type": "code",
   "execution_count": 3,
   "metadata": {},
   "outputs": [],
   "source": [
    "from qm10 import helper1 as h1\n",
    "from qm10 import helper2 as h2\n",
    "import psi4\n",
    "import numpy as np\n",
    "mol = psi4.geometry(\"\"\"\n",
    "O\n",
    "H 1 1.1\n",
    "H 1 1.1 2 104\n",
    "\"\"\")\n",
    "bas = psi4.core.BasisSet.build(mol, target=\"aug-cc-pVDZ\")\n",
    "mints = psi4.core.MintsHelper(bas)\n",
    "A = np.array([[5.0,5.0], [5.0, 5.0]])\n",
    "F = np.array([[5.0,5.0], [5.0, 5.0]])\n",
    "F_old = np.array([[5.0,5.0], [5.0, 5.0]])\n",
    "F_new = np.array([[6.0,6.0], [6.0, 6.0]])\n",
    "damp_start = 5\n",
    "iteration = 1\n",
    "damp_value = 2.0\n",
    "nel = 2\n"
   ]
  },
  {
   "cell_type": "code",
   "execution_count": 5,
   "metadata": {},
   "outputs": [
    {
     "name": "stdout",
     "output_type": "stream",
     "text": [
      "(array([[ 50.,  50.],\n",
      "       [ 50.,  50.]]), array([    0.,  1000.]))\n"
     ]
    }
   ],
   "source": [
    "print(h2.update_D(F,A, nel))"
   ]
  },
  {
   "cell_type": "code",
   "execution_count": 6,
   "metadata": {},
   "outputs": [
    {
     "data": {
      "text/plain": [
       "array([[ 6.,  6.],\n",
       "       [ 6.,  6.]])"
      ]
     },
     "execution_count": 6,
     "metadata": {},
     "output_type": "execute_result"
    }
   ],
   "source": [
    "h2.damping_func(iteration, damp_start, F_old, F_new, damp_value)"
   ]
  },
  {
   "cell_type": "code",
   "execution_count": 12,
   "metadata": {},
   "outputs": [
    {
     "data": {
      "text/plain": [
       "array([[ 60.,   0.],\n",
       "       [ -5., -65.]])"
      ]
     },
     "execution_count": 12,
     "metadata": {},
     "output_type": "execute_result"
    }
   ],
   "source": [
    "D = np.array([[7.0,6.0], [6.0, 6.0]])\n",
    "S = np.array([[6.0,6.0], [7.0, 6.0]])\n",
    "h2.gradient(F, D, S)[0]"
   ]
  },
  {
   "cell_type": "code",
   "execution_count": 13,
   "metadata": {},
   "outputs": [
    {
     "data": {
      "text/plain": [
       "(283.00236645071908, 233.00236645071908)"
      ]
     },
     "execution_count": 13,
     "metadata": {},
     "output_type": "execute_result"
    }
   ],
   "source": [
    "H = np.array([[6.0,6.0], [6.0, 6.0]])\n",
    "E_old =np.float64(50)\n",
    "h2.energy_conv(F, H, D, E_old, mol)"
   ]
  }
 ],
 "metadata": {
  "kernelspec": {
   "display_name": "Python 3",
   "language": "python",
   "name": "python3"
  },
  "language_info": {
   "codemirror_mode": {
    "name": "ipython",
    "version": 3
   },
   "file_extension": ".py",
   "mimetype": "text/x-python",
   "name": "python",
   "nbconvert_exporter": "python",
   "pygments_lexer": "ipython3",
   "version": "3.5.3"
  }
 },
 "nbformat": 4,
 "nbformat_minor": 2
}
